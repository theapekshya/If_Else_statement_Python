{
 "cells": [
  {
   "cell_type": "code",
   "execution_count": 1,
   "id": "50d6220c",
   "metadata": {},
   "outputs": [],
   "source": [
    "# if else statement\n",
    "\n",
    "#if <condition>:\n",
    " #   <operation>\n",
    "#elif <condition>:\n",
    " #   <operation>\n",
    "  #  ...\n",
    "#else:\n",
    " #   <operation>"
   ]
  },
  {
   "cell_type": "code",
   "execution_count": 2,
   "id": "fcf38043",
   "metadata": {},
   "outputs": [
    {
     "name": "stdout",
     "output_type": "stream",
     "text": [
      "Enter n=1\n",
      "odd number\n"
     ]
    }
   ],
   "source": [
    "a = int(input('Enter n='))\n",
    "if a%2==0:\n",
    "    print(\"even number\")\n",
    "else:\n",
    "    print('odd number')"
   ]
  },
  {
   "cell_type": "code",
   "execution_count": 3,
   "id": "0fafd64d",
   "metadata": {},
   "outputs": [
    {
     "name": "stdout",
     "output_type": "stream",
     "text": [
      "Enter a =2\n",
      "Enter b =4\n",
      "b is greater\n"
     ]
    }
   ],
   "source": [
    "# greater or less number or equal number\n",
    "\n",
    "a = int(input('Enter a ='))\n",
    "b = int(input('Enter b ='))\n",
    "if a>b:\n",
    "   print('a is greater')\n",
    "elif b>a:\n",
    "   print('b is greater')\n",
    "else:\n",
    "   print('equal')\n",
    "              \n",
    "                        "
   ]
  },
  {
   "cell_type": "code",
   "execution_count": 5,
   "id": "104f1543",
   "metadata": {},
   "outputs": [
    {
     "name": "stdout",
     "output_type": "stream",
     "text": [
      "Enter a =1\n",
      "Enter b =1\n",
      "Enter + or - or * or /-\n",
      "0\n"
     ]
    }
   ],
   "source": [
    "a = int(input('Enter a ='))\n",
    "b = int(input('Enter b ='))\n",
    "c = input('Enter + or - or * or /')\n",
    "\n",
    "if c=='+':\n",
    "    print(a + b)\n",
    "elif c=='-':\n",
    "    print(a - b)\n",
    "elif c=='*':\n",
    "    print(a * b)\n",
    "else:\n",
    "    print('invalid')"
   ]
  },
  {
   "cell_type": "code",
   "execution_count": null,
   "id": "5253a204",
   "metadata": {},
   "outputs": [],
   "source": []
  }
 ],
 "metadata": {
  "kernelspec": {
   "display_name": "Python 3 (ipykernel)",
   "language": "python",
   "name": "python3"
  },
  "language_info": {
   "codemirror_mode": {
    "name": "ipython",
    "version": 3
   },
   "file_extension": ".py",
   "mimetype": "text/x-python",
   "name": "python",
   "nbconvert_exporter": "python",
   "pygments_lexer": "ipython3",
   "version": "3.10.9"
  }
 },
 "nbformat": 4,
 "nbformat_minor": 5
}
